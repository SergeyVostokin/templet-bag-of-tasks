{
 "cells": [
  {
   "cell_type": "code",
   "execution_count": null,
   "metadata": {},
   "outputs": [],
   "source": [
    "#pragma cling load(\"libcurl\")"
   ]
  },
  {
   "cell_type": "code",
   "execution_count": null,
   "metadata": {},
   "outputs": [],
   "source": [
    "#include \"./lib/everest.hpp\"\n",
    "using namespace TEMPLET;\n",
    "using namespace std;"
   ]
  },
  {
   "cell_type": "code",
   "execution_count": null,
   "metadata": {},
   "outputs": [],
   "source": [
    "struct btask:task {\n",
    "\tbtask(taskengine&e):task(e, \"5e18b9903100006776804a1e\"){}\n",
    "    void put_number(int n){\n",
    "        json in;\n",
    "\t\tin[\"name\"] = \"squared-number-task\";\n",
    "\t\tin[\"inputs\"][\"n\"] = n;\n",
    "\t\tinput(in);\n",
    "    }\n",
    "    int get_squared_number(){\n",
    "        int n=0;\n",
    "        json out=result();\n",
    "        //n = out[\"outputs\"][\"squared-n\"];\n",
    "        cout << result().dump();\n",
    "        return n;\n",
    "    }\n",
    "};"
   ]
  },
  {
   "cell_type": "code",
   "execution_count": null,
   "metadata": {},
   "outputs": [],
   "source": [
    "taskengine eng(\"vostokinsv\", \"SergeyVostokin\");"
   ]
  },
  {
   "cell_type": "code",
   "execution_count": null,
   "metadata": {},
   "outputs": [],
   "source": [
    "bool res;"
   ]
  },
  {
   "cell_type": "code",
   "execution_count": null,
   "metadata": {},
   "outputs": [],
   "source": [
    "eng.get_app_description(\"squared-number\");"
   ]
  },
  {
   "cell_type": "code",
   "execution_count": null,
   "metadata": {},
   "outputs": [],
   "source": [
    "btask a_btask(eng);"
   ]
  },
  {
   "cell_type": "code",
   "execution_count": null,
   "metadata": {},
   "outputs": [],
   "source": [
    "res=a_btask.submit();\n",
    "cout << res;"
   ]
  },
  {
   "cell_type": "code",
   "execution_count": null,
   "metadata": {},
   "outputs": [],
   "source": [
    "res=eng.wait_all();\n",
    "cout << res;"
   ]
  },
  {
   "cell_type": "code",
   "execution_count": null,
   "metadata": {},
   "outputs": [],
   "source": [
    "cout << endl << \" squared_number is :\" << a_btask.get_squared_number() << endl;"
   ]
  },
  {
   "cell_type": "code",
   "execution_count": null,
   "metadata": {},
   "outputs": [],
   "source": []
  }
 ],
 "metadata": {
  "kernelspec": {
   "display_name": "C++14",
   "language": "C++14",
   "name": "xcpp14"
  },
  "language_info": {
   "codemirror_mode": "text/x-c++src",
   "file_extension": ".cpp",
   "mimetype": "text/x-c++src",
   "name": "c++",
   "version": "14"
  }
 },
 "nbformat": 4,
 "nbformat_minor": 4
}
