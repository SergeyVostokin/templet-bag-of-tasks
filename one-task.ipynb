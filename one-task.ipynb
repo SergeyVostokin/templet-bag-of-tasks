{
 "cells": [
  {
   "cell_type": "code",
   "execution_count": null,
   "metadata": {},
   "outputs": [],
   "source": [
    "#pragma cling load(\"libcurl\")"
   ]
  },
  {
   "cell_type": "code",
   "execution_count": null,
   "metadata": {},
   "outputs": [],
   "source": [
    "#include \"../lib/everest.hpp\"\n",
    "using namespace TEMPLET;\n",
    "using namespace std;"
   ]
  },
  {
   "cell_type": "code",
   "execution_count": null,
   "metadata": {},
   "outputs": [],
   "source": [
    "struct btask:task {\n",
    "\tbtask(taskengine&e):task(e, \"abcdefhg\"){}\n",
    "    void put_number(int n){\n",
    "        json in;\n",
    "\t\tin[\"name\"] = \"squared-number-task\";\n",
    "\t\tin[\"inputs\"][\"n\"] = n;\n",
    "\t\tinput(in);\n",
    "    }\n",
    "    int get_squared_number(){\n",
    "        int n;\n",
    "        json& out=result();\n",
    "        n = out[\"outputs\"][\"squared-n\"];\n",
    "        return n;\n",
    "    }\n",
    "};"
   ]
  },
  {
   "cell_type": "code",
   "execution_count": null,
   "metadata": {},
   "outputs": [],
   "source": [
    "taskengine eng(\"\", \"\");"
   ]
  },
  {
   "cell_type": "code",
   "execution_count": null,
   "metadata": {},
   "outputs": [],
   "source": [
    "btasks a_btask(eng);"
   ]
  },
  {
   "cell_type": "code",
   "execution_count": null,
   "metadata": {},
   "outputs": [],
   "source": [
    "a_btask.submit();"
   ]
  },
  {
   "cell_type": "code",
   "execution_count": null,
   "metadata": {},
   "outputs": [],
   "source": [
    "eng.wait_all();"
   ]
  },
  {
   "cell_type": "code",
   "execution_count": null,
   "metadata": {},
   "outputs": [],
   "source": [
    "cout << endl << \" squared_number is :\" << a_btask.get_squared_number() << endl;"
   ]
  }
 ],
 "metadata": {
  "kernelspec": {
   "display_name": "C++14",
   "language": "C++14",
   "name": "xcpp14"
  },
  "language_info": {
   "codemirror_mode": "text/x-c++src",
   "file_extension": ".cpp",
   "mimetype": "text/x-c++src",
   "name": "c++",
   "version": "14"
  }
 },
 "nbformat": 4,
 "nbformat_minor": 4
}
