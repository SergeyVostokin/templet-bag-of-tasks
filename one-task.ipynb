{
 "cells": [
  {
   "cell_type": "code",
   "execution_count": null,
   "metadata": {},
   "outputs": [],
   "source": [
    "#pragma cling load(\"libcurl\")"
   ]
  },
  {
   "cell_type": "code",
   "execution_count": null,
   "metadata": {},
   "outputs": [],
   "source": [
    "#include \"../../lib/everest.hpp\"\n",
    "using namespace TEMPLET;\n",
    "using namespace std;"
   ]
  },
  {
   "cell_type": "code",
   "execution_count": null,
   "metadata": {},
   "outputs": [],
   "source": [
    "struct tasksort :task {\n",
    "\ttasksort(taskengine&e):task(e, \"5ccaba85100000638af4eabe\"){}\n",
    "\ttasksort(){}\n",
    "\tvoid sort(int i, int vi){\n",
    "\t\tjson in_sort;\n",
    "\t\tin_sort[\"name\"] = \"sort-task\";\n",
    "\t\tin_sort[\"inputs\"][\"i\"] = i;\n",
    "\t\tin_sort[\"inputs\"][\"vi\"] = vi;\n",
    "\t\tinput(in_sort);\n",
    "\t}\n",
    "\tvoid sort_time(ostream&s) { s << result().dump(); }\n",
    "};"
   ]
  },
  {
   "cell_type": "code",
   "execution_count": null,
   "metadata": {},
   "outputs": [],
   "source": [
    "struct taskmerge :task {\n",
    "\ttaskmerge(taskengine&e):task(e, \"5d22422012000050bcf95406\"){}\n",
    "\ttaskmerge(){}\n",
    "\tvoid merge(int i, int vi, int j, int vj) {\n",
    "\t\tjson in_merge;\n",
    "\t\tin_merge[\"name\"] = \"merge-task\";\n",
    "\t\tin_merge[\"inputs\"][\"i\"] = i;\n",
    "\t\tin_merge[\"inputs\"][\"vi\"] = vi;\n",
    "\t\tin_merge[\"inputs\"][\"j\"] = j;\n",
    "\t\tin_merge[\"inputs\"][\"vj\"] = vj;\n",
    "\t\tinput(in_merge);\n",
    "\t}\n",
    "\tvoid merge_time(ostream&s) { s << result().dump(); }\n",
    "};"
   ]
  },
  {
   "cell_type": "code",
   "execution_count": null,
   "metadata": {},
   "outputs": [],
   "source": [
    "taskengine eng(\"\", \"\");"
   ]
  },
  {
   "cell_type": "code",
   "execution_count": null,
   "metadata": {},
   "outputs": [],
   "source": [
    "tasksort t_sort1(eng), t_sort2(eng);\n",
    "taskmerge t_merge(eng);\n",
    "\n",
    "t_sort1.sort(0, 0);\n",
    "t_sort2.sort(1, 0);\n",
    "t_merge.merge(0, 1, 1, 1);"
   ]
  },
  {
   "cell_type": "code",
   "execution_count": null,
   "metadata": {},
   "outputs": [],
   "source": [
    "t_sort1.submit();"
   ]
  },
  {
   "cell_type": "code",
   "execution_count": null,
   "metadata": {},
   "outputs": [],
   "source": [
    "t_sort2.submit();"
   ]
  },
  {
   "cell_type": "code",
   "execution_count": null,
   "metadata": {},
   "outputs": [],
   "source": [
    "eng.wait_all();"
   ]
  },
  {
   "cell_type": "code",
   "execution_count": null,
   "metadata": {},
   "outputs": [],
   "source": [
    "t_merge.submit();"
   ]
  },
  {
   "cell_type": "code",
   "execution_count": null,
   "metadata": {},
   "outputs": [],
   "source": [
    "eng.wait_all();"
   ]
  },
  {
   "cell_type": "code",
   "execution_count": null,
   "metadata": {},
   "outputs": [],
   "source": [
    "cout << endl << \" sorter #1 \" << endl;\n",
    "t_sort1.sort_time(cout);\n",
    "cout << endl << \" sorter #2 \" << endl;\n",
    "t_sort2.sort_time(cout);\n",
    "cout << endl << \" merger \" << endl;\n",
    "t_merge.merge_time(cout);"
   ]
  },
  {
   "cell_type": "code",
   "execution_count": null,
   "metadata": {},
   "outputs": [],
   "source": []
  }
 ],
 "metadata": {
  "kernelspec": {
   "display_name": "C++14",
   "language": "C++14",
   "name": "xcpp14"
  },
  "language_info": {
   "codemirror_mode": "text/x-c++src",
   "file_extension": ".cpp",
   "mimetype": "text/x-c++src",
   "name": "c++",
   "version": "-std=c++14"
  }
 },
 "nbformat": 4,
 "nbformat_minor": 4
}
