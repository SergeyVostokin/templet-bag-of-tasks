{
 "cells": [
  {
   "cell_type": "code",
   "execution_count": 1,
   "metadata": {},
   "outputs": [],
   "source": [
    "#pragma cling load(\"libcurl\")"
   ]
  },
  {
   "cell_type": "code",
   "execution_count": 2,
   "metadata": {},
   "outputs": [],
   "source": [
    "#include \"./lib/everest.hpp\"\n",
    "using namespace TEMPLET;\n",
    "using namespace std;"
   ]
  },
  {
   "cell_type": "code",
   "execution_count": 3,
   "metadata": {},
   "outputs": [],
   "source": [
    "struct btask:task {\n",
    "\tbtask(taskengine&e):task(e,\"\"){}\n",
    "    \n",
    "    void put_number(int n){\n",
    "        json in;\n",
    "\t\tin[\"name\"] = \"squared-number-task\";\n",
    "\t\tin[\"inputs\"][\"n\"] = n;\n",
    "\t\tinput(in);\n",
    "    }\n",
    "    \n",
    "    int get_squared_number(){\n",
    "        int n=0;\n",
    "        json out=result();\n",
    "        n = out[\"squared-n\"];\n",
    "        return n;\n",
    "    }\n",
    "};"
   ]
  },
  {
   "cell_type": "code",
   "execution_count": 4,
   "metadata": {},
   "outputs": [],
   "source": [
    "taskengine eng(\"vostokinsv\", \"SergeyVostokin\");"
   ]
  },
  {
   "cell_type": "code",
   "execution_count": 5,
   "metadata": {},
   "outputs": [],
   "source": [
    "btask a_btask(eng);"
   ]
  },
  {
   "cell_type": "code",
   "execution_count": 6,
   "metadata": {},
   "outputs": [],
   "source": [
    "//eng.get_app_description(\"squared-number\");\n",
    "a_btask.set_app_id(\"5e18b9903100006776804a1e\");"
   ]
  },
  {
   "cell_type": "code",
   "execution_count": 7,
   "metadata": {},
   "outputs": [],
   "source": [
    "a_btask.put_number(5);\n",
    "a_btask.submit();"
   ]
  },
  {
   "cell_type": "code",
   "execution_count": 8,
   "metadata": {},
   "outputs": [],
   "source": [
    "eng.wait_all();"
   ]
  },
  {
   "cell_type": "code",
   "execution_count": 9,
   "metadata": {},
   "outputs": [
    {
     "name": "stdout",
     "output_type": "stream",
     "text": [
      "\n",
      " squared_number is :25\n"
     ]
    }
   ],
   "source": [
    "cout << endl << \" squared_number is :\" << a_btask.get_squared_number() << endl;"
   ]
  },
  {
   "cell_type": "code",
   "execution_count": null,
   "metadata": {},
   "outputs": [],
   "source": []
  }
 ],
 "metadata": {
  "kernelspec": {
   "display_name": "C++14",
   "language": "C++14",
   "name": "xcpp14"
  },
  "language_info": {
   "codemirror_mode": "text/x-c++src",
   "file_extension": ".cpp",
   "mimetype": "text/x-c++src",
   "name": "c++",
   "version": "14"
  }
 },
 "nbformat": 4,
 "nbformat_minor": 4
}
