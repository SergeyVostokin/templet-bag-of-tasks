{
 "cells": [
  {
   "cell_type": "raw",
   "metadata": {},
   "source": [
    "common system things, always run this cell after the kernel restart"
   ]
  },
  {
   "cell_type": "code",
   "execution_count": null,
   "metadata": {},
   "outputs": [],
   "source": [
    "#pragma cling load(\"libcurl\")\n",
    "#include \"./lib/everest.hpp\"\n",
    "#include <string>\n",
    "#include <iostream>\n",
    "using namespace TEMPLET;\n",
    "using namespace std;"
   ]
  },
  {
   "cell_type": "raw",
   "metadata": {},
   "source": [
    "task interface, replace application_id with a valid one "
   ]
  },
  {
   "cell_type": "code",
   "execution_count": null,
   "metadata": {},
   "outputs": [],
   "source": [
    "struct btask:task {\n",
    "\tbtask(taskengine&e):task(e,\"application_id\"){}\n",
    "    \n",
    "    void put_number(int n){\n",
    "        json in;\n",
    "\t\tin[\"name\"] = \"squared-number-task\";\n",
    "\t\tin[\"inputs\"][\"n\"] = n;\n",
    "\t\tinput(in);\n",
    "    }\n",
    "    \n",
    "    int get_squared_number(){\n",
    "        int n=0;\n",
    "        json out=result();\n",
    "        n = out[\"squared-n\"];\n",
    "        return n;\n",
    "    }\n",
    "};"
   ]
  },
  {
   "cell_type": "raw",
   "metadata": {},
   "source": [
    "use your Everest login and password to get a new valid access_token"
   ]
  },
  {
   "cell_type": "code",
   "execution_count": null,
   "metadata": {},
   "outputs": [],
   "source": [
    "taskengine eng(\"login\", \"password\");\n",
    "string token;\n",
    "eng.get_access_token(token);\n",
    "cout << token;"
   ]
  },
  {
   "cell_type": "raw",
   "metadata": {},
   "source": [
    "run this cell to get application_id for the given application name (for example, \"squared-number\")"
   ]
  },
  {
   "cell_type": "code",
   "execution_count": null,
   "metadata": {},
   "outputs": [],
   "source": [
    "{\n",
    "   taskengine eng(\"access_token\");\n",
    "   eng.get_app_description(\"squared-number\");\n",
    "}"
   ]
  },
  {
   "cell_type": "raw",
   "metadata": {},
   "source": [
    "now check out how it all works together"
   ]
  },
  {
   "cell_type": "code",
   "execution_count": null,
   "metadata": {},
   "outputs": [],
   "source": [
    "{\n",
    "    taskengine eng(\"access_token\");\n",
    "    btask a_btask(eng);\n",
    "    a_btask.put_number(5);\n",
    "    a_btask.submit();\n",
    "    eng.wait_all();\n",
    "    cout << \" squared_number is :\" << a_btask.get_squared_number();\n",
    "}"
   ]
  }
 ],
 "metadata": {
  "kernelspec": {
   "display_name": "C++14",
   "language": "C++14",
   "name": "xcpp14"
  },
  "language_info": {
   "codemirror_mode": "text/x-c++src",
   "file_extension": ".cpp",
   "mimetype": "text/x-c++src",
   "name": "c++",
   "version": "14"
  }
 },
 "nbformat": 4,
 "nbformat_minor": 4
}
